{
 "cells": [
  {
   "cell_type": "code",
   "execution_count": 62,
   "id": "ca303849",
   "metadata": {},
   "outputs": [
    {
     "name": "stdout",
     "output_type": "stream",
     "text": [
      "Column names in the dataset:\n",
      "Index(['anime_id', 'name', 'genre', 'type', 'episodes', 'rating', 'members'], dtype='object')\n"
     ]
    }
   ],
   "source": [
    "import pandas as pd\n",
    "\n",
    "# Load the dataset\n",
    "file_path = r'C:\\Users\\user\\AppData\\Local\\Temp\\54ad3c13-e7e1-46ef-a5ba-39a68b1f36b3_Recommendation System.zip.6b3\\Recommendation System\\anime.csv'\n",
    "df = pd.read_csv(file_path)\n",
    "\n",
    "# Display column names\n",
    "print(\"Column names in the dataset:\")\n",
    "print(df.columns)\n"
   ]
  },
  {
   "cell_type": "code",
   "execution_count": 64,
   "id": "87d14532",
   "metadata": {},
   "outputs": [
    {
     "name": "stdout",
     "output_type": "stream",
     "text": [
      "Column names in the dataset:\n",
      "Index(['anime_id', 'name', 'genre', 'type', 'episodes', 'rating', 'members'], dtype='object')\n"
     ]
    }
   ],
   "source": [
    "import pandas as pd\n",
    "from sklearn.feature_extraction.text import TfidfVectorizer\n",
    "from sklearn.metrics.pairwise import cosine_similarity\n",
    "from sklearn.model_selection import train_test_split\n",
    "from sklearn.metrics import precision_score, recall_score, f1_score\n",
    "import numpy as np\n",
    "\n",
    "# Load the dataset\n",
    "file_path = r'C:\\Users\\user\\AppData\\Local\\Temp\\54ad3c13-e7e1-46ef-a5ba-39a68b1f36b3_Recommendation System.zip.6b3\\Recommendation System\\anime.csv'\n",
    "df = pd.read_csv(file_path)\n",
    "\n",
    "# Display column names to verify\n",
    "print(\"Column names in the dataset:\")\n",
    "print(df.columns)"
   ]
  },
  {
   "cell_type": "code",
   "execution_count": 66,
   "id": "25cd7b50",
   "metadata": {},
   "outputs": [],
   "source": [
    "# Handle missing values\n",
    "df['rating'].fillna(df['rating'].median(), inplace=True)\n",
    "df['type'].fillna('Unknown', inplace=True)  # Use the correct column name here\n",
    "df['genre'].fillna('', inplace=True)"
   ]
  },
  {
   "cell_type": "code",
   "execution_count": 67,
   "id": "8f490d2b",
   "metadata": {},
   "outputs": [],
   "source": [
    "# Handle non-numeric values in 'episodes' and 'members'\n",
    "df['episodes'] = pd.to_numeric(df['episodes'], errors='coerce').fillna(0).astype(int)\n",
    "df['members'] = pd.to_numeric(df['members'], errors='coerce').fillna(0).astype(int)\n"
   ]
  },
  {
   "cell_type": "code",
   "execution_count": 68,
   "id": "e0ea58b2",
   "metadata": {},
   "outputs": [],
   "source": [
    "# Convert 'type' to one-hot encoding\n",
    "type_dummies = pd.get_dummies(df['type'], prefix='type')\n",
    "df = df.drop('type', axis=1)\n",
    "df = pd.concat([df, type_dummies], axis=1)\n"
   ]
  },
  {
   "cell_type": "code",
   "execution_count": 69,
   "id": "9bdd5eb5",
   "metadata": {},
   "outputs": [],
   "source": [
    "# Prepare features for TF-IDF Vectorizer\n",
    "df['combined_features'] = df['genre'] + ' ' + df['episodes'].astype(str) + ' ' + df['rating'].astype(str) + ' ' + df['members'].astype(str)"
   ]
  },
  {
   "cell_type": "code",
   "execution_count": 70,
   "id": "6160e4c2",
   "metadata": {},
   "outputs": [],
   "source": [
    "# Vectorize the combined features\n",
    "tfidf_vectorizer = TfidfVectorizer()\n",
    "tfidf_matrix = tfidf_vectorizer.fit_transform(df['combined_features'])"
   ]
  },
  {
   "cell_type": "code",
   "execution_count": 71,
   "id": "f6d4231e",
   "metadata": {},
   "outputs": [],
   "source": [
    "# Compute cosine similarity matrix\n",
    "cosine_sim = cosine_similarity(tfidf_matrix, tfidf_matrix)"
   ]
  },
  {
   "cell_type": "code",
   "execution_count": 72,
   "id": "7d74db9f",
   "metadata": {},
   "outputs": [],
   "source": [
    "# Function to get recommendations\n",
    "def get_recommendations(anime_name, cosine_sim=cosine_sim):\n",
    "    idx = df[df['name'] == anime_name].index[0]\n",
    "    sim_scores = list(enumerate(cosine_sim[idx]))\n",
    "    sim_scores = sorted(sim_scores, key=lambda x: x[1], reverse=True)\n",
    "    sim_scores = sim_scores[1:11]  # Get top 10 similar items\n",
    "    anime_indices = [i[0] for i in sim_scores]\n",
    "    return df['name'].iloc[anime_indices]"
   ]
  },
  {
   "cell_type": "code",
   "execution_count": 73,
   "id": "38b8c3fc",
   "metadata": {},
   "outputs": [
    {
     "name": "stdout",
     "output_type": "stream",
     "text": [
      "Recommended Anime for 'Naruto':\n",
      "7867                                      Iron Virgin Jun\n",
      "4067                       Ikkitousen: Extravaganza Epoch\n",
      "1573    Naruto: Shippuuden Movie 3 - Hi no Ishi wo Tsu...\n",
      "1930                                    Dragon Ball Super\n",
      "2458                 Naruto Shippuuden: Sunny Side Battle\n",
      "8492                       Dr. Slump: Arale-chan Specials\n",
      "2997    Naruto Soyokazeden Movie: Naruto to Mashin to ...\n",
      "1472          Naruto: Shippuuden Movie 4 - The Lost Tower\n",
      "1931                      Dragon Ball: Episode of Bardock\n",
      "1103    Boruto: Naruto the Movie - Naruto ga Hokage ni...\n",
      "Name: name, dtype: object\n"
     ]
    }
   ],
   "source": [
    "# Example recommendation\n",
    "print(\"Recommended Anime for 'Naruto':\")\n",
    "recommended_anime = get_recommendations('Naruto')\n",
    "print(recommended_anime)"
   ]
  },
  {
   "cell_type": "code",
   "execution_count": 74,
   "id": "665a188d",
   "metadata": {},
   "outputs": [],
   "source": [
    "# Splitting the data into training and testing sets (for evaluation)\n",
    "df_train, df_test = train_test_split(df, test_size=0.2, random_state=42)"
   ]
  },
  {
   "cell_type": "code",
   "execution_count": 75,
   "id": "2b1a8cb2",
   "metadata": {},
   "outputs": [],
   "source": [
    "# Dummy evaluation - Assume some true labels for evaluation (you need real labels for proper evaluation)\n",
    "y_true = np.random.choice([0, 1], size=len(df_test))  # Replace with actual true labels if available\n",
    "y_pred = np.random.choice([0, 1], size=len(df_test))  # Replace with actual predicted labels from your system"
   ]
  },
  {
   "cell_type": "code",
   "execution_count": 76,
   "id": "ee89fc49",
   "metadata": {},
   "outputs": [],
   "source": [
    "# Calculate evaluation metrics\n",
    "precision = precision_score(y_true, y_pred, average='binary', zero_division=0)\n",
    "recall = recall_score(y_true, y_pred, average='binary', zero_division=0)\n",
    "f1 = f1_score(y_true, y_pred, average='binary', zero_division=0)"
   ]
  },
  {
   "cell_type": "code",
   "execution_count": 77,
   "id": "9749076b",
   "metadata": {},
   "outputs": [
    {
     "name": "stdout",
     "output_type": "stream",
     "text": [
      "\n",
      "Evaluation Metrics:\n",
      "Precision: 0.48\n",
      "Recall: 0.49\n",
      "F1 Score: 0.49\n"
     ]
    }
   ],
   "source": [
    "print(\"\\nEvaluation Metrics:\")\n",
    "print(f\"Precision: {precision:.2f}\")\n",
    "print(f\"Recall: {recall:.2f}\")\n",
    "print(f\"F1 Score: {f1:.2f}\")"
   ]
  },
  {
   "cell_type": "code",
   "execution_count": null,
   "id": "5cbac384",
   "metadata": {},
   "outputs": [],
   "source": [
    "interview questions:\n",
    "===================\n",
    "1. Difference Between User-Based and Item-Based Collaborative Filtering\n",
    "Collaborative Filtering (CF) is a technique used in recommendation systems to predict a user's interests by collecting preferences or taste information from many users. It assumes that if users agree on one issue, they are likely to agree on other issues as well.\n",
    "\n",
    "User-Based Collaborative Filtering:\n",
    "\n",
    "Concept: This method recommends items based on the preferences of similar users. It looks at a user's past behavior and compares it to other users who have similar tastes.\n",
    "Process:\n",
    "Step 1: Identify users similar to the target user (based on their ratings or preferences for items).\n",
    "Step 2: Aggregate the preferences of these similar users to make recommendations for the target user.\n",
    "Example: If User A and User B have similar ratings for movies, and User A likes a movie that User B hasn't seen, User B might be recommended that movie.\n",
    "Item-Based Collaborative Filtering:\n",
    "\n",
    "Concept: This method recommends items based on the similarity between items themselves, rather than users. It assumes that if a user likes a particular item, they are likely to like items that are similar to it.\n",
    "Process:\n",
    "Step 1: Calculate the similarity between items based on users’ ratings.\n",
    "Step 2: Recommend items that are similar to those the user has already liked.\n",
    "Example: If a user likes a particular movie, the system will recommend other movies that are similar to it based on the ratings from all users.\n",
    "Key Differences:\n",
    "\n",
    "Focus: User-based focuses on user similarity, while item-based focuses on item similarity.\n",
    "Scalability: Item-based filtering often scales better with large datasets because the number of items is usually less than the number of users.\n",
    "Adaptability: User-based can adapt more quickly to changes in user preferences, while item-based is typically more stable over time.\n",
    "2. What is Collaborative Filtering, and How Does it Work?\n",
    "Collaborative Filtering (CF) is a technique used in recommendation systems to suggest items to users based on the preferences and behaviors of other users. The core idea is that users who have agreed in the past will agree in the future.\n",
    "\n",
    "How Collaborative Filtering Works:\n",
    "\n",
    "1. Collect Data:\n",
    "\n",
    "User-Item Interactions: CF systems collect data on user interactions with items, such as ratings, purchases, clicks, or likes. This data is typically stored in a matrix where rows represent users, columns represent items, and the matrix cells contain interaction data (e.g., ratings).\n",
    "2. Similarity Computation:\n",
    "\n",
    "User-Based CF:\n",
    "Similarity between Users: Compute the similarity between users based on their interaction patterns. Common similarity measures include Pearson correlation, cosine similarity, or Euclidean distance.\n",
    "Item-Based CF:\n",
    "Similarity between Items: Compute the similarity between items based on user ratings or interactions. This can also be done using measures like cosine similarity or Pearson correlation.\n",
    "3. Make Predictions:\n",
    "\n",
    "User-Based CF: For a target user, find similar users and aggregate their preferences to recommend items that the target user has not yet interacted with.\n",
    "Item-Based CF: For a target item, find similar items and recommend those to users who have interacted with the target item.\n",
    "4. Generate Recommendations:\n",
    "\n",
    "Ranking: Rank items based on the predicted preference scores or similarity measures.\n",
    "Filtering: Apply filters to ensure that recommended items are relevant and not already interacted with by the user."
   ]
  }
 ],
 "metadata": {
  "kernelspec": {
   "display_name": "Python 3 (ipykernel)",
   "language": "python",
   "name": "python3"
  },
  "language_info": {
   "codemirror_mode": {
    "name": "ipython",
    "version": 3
   },
   "file_extension": ".py",
   "mimetype": "text/x-python",
   "name": "python",
   "nbconvert_exporter": "python",
   "pygments_lexer": "ipython3",
   "version": "3.11.5"
  }
 },
 "nbformat": 4,
 "nbformat_minor": 5
}
